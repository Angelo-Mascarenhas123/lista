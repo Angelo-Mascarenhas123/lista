{
  "nbformat": 4,
  "nbformat_minor": 0,
  "metadata": {
    "colab": {
      "provenance": []
    },
    "kernelspec": {
      "name": "python3",
      "display_name": "Python 3"
    },
    "language_info": {
      "name": "python"
    }
  },
  "cells": [
    {
      "cell_type": "markdown",
      "source": [
        " **Crie uma lista de compras de um supermercado com 10 elementos.**\n",
        "\n",
        " **Na posição 6 crie uma lista com 5 elementos.**\n",
        "\n",
        " **Altere 2 elementos da lista.**\n",
        "\n",
        " **Exclua 3 elementos da lista.**\n",
        "\n",
        " **Adicione 4 elementos na lista.**\n",
        "\n",
        " **Acesse o terceiro e quinto elemento da lista.**\n",
        "\n",
        "**Mostre o número de elementos da lista.**\n",
        "\n",
        "**Mostre todos os elementos da lista.**"
      ],
      "metadata": {
        "id": "vokbB5W181bt"
      }
    },
    {
      "cell_type": "code",
      "source": [
        "lista = ['arroz', 'feijão', 'macarrão', 'café', 'ovos', 'farinha', 'carne', 'fuba', 'queijo', 'presunto']\n",
        "lista"
      ],
      "metadata": {
        "colab": {
          "base_uri": "https://localhost:8080/"
        },
        "id": "RM2M_CU19QSK",
        "outputId": "8aee126d-459b-4b32-cd5c-71029dbe3f8f"
      },
      "execution_count": 33,
      "outputs": [
        {
          "output_type": "execute_result",
          "data": {
            "text/plain": [
              "['arroz',\n",
              " 'feijão',\n",
              " 'macarrão',\n",
              " 'café',\n",
              " 'ovos',\n",
              " 'farinha',\n",
              " 'carne',\n",
              " 'fuba',\n",
              " 'queijo',\n",
              " 'presunto']"
            ]
          },
          "metadata": {},
          "execution_count": 33
        }
      ]
    },
    {
      "cell_type": "code",
      "source": [
        "lista.insert(6,['tomate','cebola','beterraba','cenoura','batata'])\n",
        "lista"
      ],
      "metadata": {
        "colab": {
          "base_uri": "https://localhost:8080/"
        },
        "id": "oRnhOtsm_Iy6",
        "outputId": "8188aabb-4891-401d-c427-10c20b2788de"
      },
      "execution_count": 34,
      "outputs": [
        {
          "output_type": "execute_result",
          "data": {
            "text/plain": [
              "['arroz',\n",
              " 'feijão',\n",
              " 'macarrão',\n",
              " 'café',\n",
              " 'ovos',\n",
              " 'farinha',\n",
              " ['tomate', 'cebola', 'beterraba', 'cenoura', 'batata'],\n",
              " 'carne',\n",
              " 'fuba',\n",
              " 'queijo',\n",
              " 'presunto']"
            ]
          },
          "metadata": {},
          "execution_count": 34
        }
      ]
    },
    {
      "cell_type": "code",
      "source": [
        "lista[5] = 'carne'\n",
        "lista[7] = 'leite'\n",
        "lista"
      ],
      "metadata": {
        "colab": {
          "base_uri": "https://localhost:8080/"
        },
        "id": "3MUTBuKwCU8Y",
        "outputId": "b782829c-6eb3-455b-ac52-188d6bb65e4f"
      },
      "execution_count": 35,
      "outputs": [
        {
          "output_type": "execute_result",
          "data": {
            "text/plain": [
              "['arroz',\n",
              " 'feijão',\n",
              " 'macarrão',\n",
              " 'café',\n",
              " 'ovos',\n",
              " 'carne',\n",
              " ['tomate', 'cebola', 'beterraba', 'cenoura', 'batata'],\n",
              " 'leite',\n",
              " 'fuba',\n",
              " 'queijo',\n",
              " 'presunto']"
            ]
          },
          "metadata": {},
          "execution_count": 35
        }
      ]
    },
    {
      "cell_type": "code",
      "source": [
        "lista.pop(6)\n",
        "lista.pop(0)\n",
        "lista.pop(1)\n",
        "lista"
      ],
      "metadata": {
        "colab": {
          "base_uri": "https://localhost:8080/"
        },
        "id": "WKmMxklwEBWt",
        "outputId": "46765fce-9223-42bc-e312-3491cc7bdef2"
      },
      "execution_count": 36,
      "outputs": [
        {
          "output_type": "execute_result",
          "data": {
            "text/plain": [
              "['feijão', 'café', 'ovos', 'carne', 'leite', 'fuba', 'queijo', 'presunto']"
            ]
          },
          "metadata": {},
          "execution_count": 36
        }
      ]
    },
    {
      "cell_type": "code",
      "source": [
        "lista.append('biscoito')\n",
        "lista.append('maçã')\n",
        "lista.append('galinha')\n",
        "lista.append('peixe')\n",
        "lista"
      ],
      "metadata": {
        "colab": {
          "base_uri": "https://localhost:8080/"
        },
        "id": "mZDiTJmXFpCq",
        "outputId": "1116abe2-34f6-4dfc-dda4-30ab1a864e12"
      },
      "execution_count": 37,
      "outputs": [
        {
          "output_type": "execute_result",
          "data": {
            "text/plain": [
              "['feijão',\n",
              " 'café',\n",
              " 'ovos',\n",
              " 'carne',\n",
              " 'leite',\n",
              " 'fuba',\n",
              " 'queijo',\n",
              " 'presunto',\n",
              " 'biscoito',\n",
              " 'maçã',\n",
              " 'galinha',\n",
              " 'peixe']"
            ]
          },
          "metadata": {},
          "execution_count": 37
        }
      ]
    },
    {
      "cell_type": "code",
      "source": [
        "lista[2],lista[4]"
      ],
      "metadata": {
        "colab": {
          "base_uri": "https://localhost:8080/"
        },
        "id": "9IYmO8epGKdB",
        "outputId": "4203f689-c651-4053-b7ef-17be625789fd"
      },
      "execution_count": 42,
      "outputs": [
        {
          "output_type": "execute_result",
          "data": {
            "text/plain": [
              "('ovos', 'leite')"
            ]
          },
          "metadata": {},
          "execution_count": 42
        }
      ]
    },
    {
      "cell_type": "code",
      "source": [
        "len(lista)"
      ],
      "metadata": {
        "colab": {
          "base_uri": "https://localhost:8080/"
        },
        "id": "VD1csxFiHCI7",
        "outputId": "e4e58498-3866-4a5a-f036-38e2688171c7"
      },
      "execution_count": 44,
      "outputs": [
        {
          "output_type": "execute_result",
          "data": {
            "text/plain": [
              "12"
            ]
          },
          "metadata": {},
          "execution_count": 44
        }
      ]
    },
    {
      "cell_type": "code",
      "source": [
        "lista"
      ],
      "metadata": {
        "colab": {
          "base_uri": "https://localhost:8080/"
        },
        "id": "VQeTY5TNISjI",
        "outputId": "c6bf711e-5059-46f7-c7d2-237486662d1b"
      },
      "execution_count": 45,
      "outputs": [
        {
          "output_type": "execute_result",
          "data": {
            "text/plain": [
              "['feijão',\n",
              " 'café',\n",
              " 'ovos',\n",
              " 'carne',\n",
              " 'leite',\n",
              " 'fuba',\n",
              " 'queijo',\n",
              " 'presunto',\n",
              " 'biscoito',\n",
              " 'maçã',\n",
              " 'galinha',\n",
              " 'peixe']"
            ]
          },
          "metadata": {},
          "execution_count": 45
        }
      ]
    }
  ]
}